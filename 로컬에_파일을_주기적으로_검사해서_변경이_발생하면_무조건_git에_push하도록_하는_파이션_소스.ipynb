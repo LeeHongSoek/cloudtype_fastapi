{
  "cells": [
    {
      "attachments": {},
      "cell_type": "markdown",
      "metadata": {
        "id": "ek-RqfyuLH3_"
      },
      "source": [
        "다음은 Windows용으로 수정된 소스입니다."
      ]
    },
    {
      "cell_type": "code",
      "execution_count": 5,
      "metadata": {
        "id": "tSscaA_FLH4B"
      },
      "outputs": [
        {
          "ename": "CalledProcessError",
          "evalue": "Command '['git', 'status']' returned non-zero exit status 128.",
          "output_type": "error",
          "traceback": [
            "\u001b[1;31m---------------------------------------------------------------------------\u001b[0m",
            "\u001b[1;31mCalledProcessError\u001b[0m                        Traceback (most recent call last)",
            "Cell \u001b[1;32mIn[5], line 22\u001b[0m\n\u001b[0;32m     19\u001b[0m subprocess\u001b[39m.\u001b[39mcall([\u001b[39m\"\u001b[39m\u001b[39mgit\u001b[39m\u001b[39m\"\u001b[39m, \u001b[39m\"\u001b[39m\u001b[39madd\u001b[39m\u001b[39m\"\u001b[39m, \u001b[39m\"\u001b[39m\u001b[39m--all\u001b[39m\u001b[39m\"\u001b[39m, \u001b[39m\"\u001b[39m\u001b[39m-u\u001b[39m\u001b[39m\"\u001b[39m])\n\u001b[0;32m     21\u001b[0m \u001b[39m# git status\u001b[39;00m\n\u001b[1;32m---> 22\u001b[0m status \u001b[39m=\u001b[39m subprocess\u001b[39m.\u001b[39;49mcheck_output([\u001b[39m\"\u001b[39;49m\u001b[39mgit\u001b[39;49m\u001b[39m\"\u001b[39;49m, \u001b[39m\"\u001b[39;49m\u001b[39mstatus\u001b[39;49m\u001b[39m\"\u001b[39;49m])\u001b[39m.\u001b[39mdecode(\u001b[39m\"\u001b[39m\u001b[39mutf-8\u001b[39m\u001b[39m\"\u001b[39m)\n\u001b[0;32m     24\u001b[0m \u001b[39m# 변경된 파일의 수\u001b[39;00m\n\u001b[0;32m     25\u001b[0m num_files \u001b[39m=\u001b[39m \u001b[39mlen\u001b[39m(status\u001b[39m.\u001b[39msplitlines()) \u001b[39m-\u001b[39m \u001b[39m1\u001b[39m\n",
            "File \u001b[1;32mc:\\Users\\USER\\AppData\\Local\\Programs\\Python\\Python311\\Lib\\subprocess.py:466\u001b[0m, in \u001b[0;36mcheck_output\u001b[1;34m(timeout, *popenargs, **kwargs)\u001b[0m\n\u001b[0;32m    463\u001b[0m         empty \u001b[39m=\u001b[39m \u001b[39mb\u001b[39m\u001b[39m'\u001b[39m\u001b[39m'\u001b[39m\n\u001b[0;32m    464\u001b[0m     kwargs[\u001b[39m'\u001b[39m\u001b[39minput\u001b[39m\u001b[39m'\u001b[39m] \u001b[39m=\u001b[39m empty\n\u001b[1;32m--> 466\u001b[0m \u001b[39mreturn\u001b[39;00m run(\u001b[39m*\u001b[39;49mpopenargs, stdout\u001b[39m=\u001b[39;49mPIPE, timeout\u001b[39m=\u001b[39;49mtimeout, check\u001b[39m=\u001b[39;49m\u001b[39mTrue\u001b[39;49;00m,\n\u001b[0;32m    467\u001b[0m            \u001b[39m*\u001b[39;49m\u001b[39m*\u001b[39;49mkwargs)\u001b[39m.\u001b[39mstdout\n",
            "File \u001b[1;32mc:\\Users\\USER\\AppData\\Local\\Programs\\Python\\Python311\\Lib\\subprocess.py:571\u001b[0m, in \u001b[0;36mrun\u001b[1;34m(input, capture_output, timeout, check, *popenargs, **kwargs)\u001b[0m\n\u001b[0;32m    569\u001b[0m     retcode \u001b[39m=\u001b[39m process\u001b[39m.\u001b[39mpoll()\n\u001b[0;32m    570\u001b[0m     \u001b[39mif\u001b[39;00m check \u001b[39mand\u001b[39;00m retcode:\n\u001b[1;32m--> 571\u001b[0m         \u001b[39mraise\u001b[39;00m CalledProcessError(retcode, process\u001b[39m.\u001b[39margs,\n\u001b[0;32m    572\u001b[0m                                  output\u001b[39m=\u001b[39mstdout, stderr\u001b[39m=\u001b[39mstderr)\n\u001b[0;32m    573\u001b[0m \u001b[39mreturn\u001b[39;00m CompletedProcess(process\u001b[39m.\u001b[39margs, retcode, stdout, stderr)\n",
            "\u001b[1;31mCalledProcessError\u001b[0m: Command '['git', 'status']' returned non-zero exit status 128."
          ]
        }
      ],
      "source": [
        "import subprocess\n",
        "import time\n",
        "import os\n",
        "\n",
        "# 로컬 저장소의 경로\n",
        "local_repo = r\"C:\\MyProject\"\n",
        "\n",
        "# 원격 저장소의 URL\n",
        "remote_url = \"https://github.com/LeeHongSoek/LeeHongSoek.git\"\n",
        "\n",
        "# 로컬 저장소로 이동합니다.\n",
        "os.chdir(local_repo)\n",
        "\n",
        "# 원격 저장소를 추가합니다.\n",
        "subprocess.call([\"git\", \"remote\", \"add\", \"origin\", remote_url])\n",
        "\n",
        "while True:\n",
        "    # git add --all\n",
        "    subprocess.call([\"git\", \"add\", \"--all\", \"-u\"])\n",
        "\n",
        "    # git status\n",
        "    status = subprocess.check_output([\"git\", \"status\"]).decode(\"utf-8\")\n",
        "\n",
        "    # 변경된 파일의 수\n",
        "    num_files = len(status.splitlines()) - 1\n",
        "\n",
        "    # 변경된 파일이 있는 경우 커밋하고 푸시합니다.\n",
        "    if num_files > 0:\n",
        "        subprocess.call([\"git\", \"commit\", \"-m\", \"Auto-commit\"])\n",
        "        subprocess.call([\"git\", \"push\", \"origin\", \"master\"])\n",
        "\n",
        "    # 10초 동안 대기합니다.\n",
        "    time.sleep(10)\n"
      ]
    },
    {
      "attachments": {},
      "cell_type": "markdown",
      "metadata": {},
      "source": []
    },
    {
      "attachments": {},
      "cell_type": "markdown",
      "metadata": {
        "id": "0SNhA8ROLH4C"
      },
      "source": [
        "이 소스를 사용하려면 변경할 파일이 있는 경로와 Git의 원격 저장소 URL을 설정해야 합니다. 그런 다음 while 루프를 실행하여 파일을 주기적으로 검사하고 변경된 파일이 있으면 Git에 push합니다."
      ]
    }
  ],
  "metadata": {
    "colab": {
      "provenance": []
    },
    "kernelspec": {
      "display_name": "Python 3",
      "name": "python3"
    },
    "language_info": {
      "codemirror_mode": {
        "name": "ipython",
        "version": 3
      },
      "file_extension": ".py",
      "mimetype": "text/x-python",
      "name": "python",
      "nbconvert_exporter": "python",
      "pygments_lexer": "ipython3",
      "version": "3.11.3"
    }
  },
  "nbformat": 4,
  "nbformat_minor": 0
}
